{
 "cells": [
  {
   "cell_type": "code",
   "execution_count": 3,
   "id": "34f6da46",
   "metadata": {},
   "outputs": [],
   "source": [
    "from PIL import Image\n",
    "from io import BytesIO\n",
    "import cv2\n",
    "import numpy as np\n",
    "import matplotlib.pyplot as plt\n",
    "import re\n",
    "import os\n",
    "import pandas as pd"
   ]
  },
  {
   "cell_type": "code",
   "execution_count": 2,
   "id": "60b39970",
   "metadata": {},
   "outputs": [],
   "source": [
    "import pytesseract\n",
    "pytesseract.pytesseract.tesseract_cmd = '/opt/homebrew/bin/tesseract' "
   ]
  },
  {
   "cell_type": "code",
   "execution_count": 5,
   "id": "890ec2f0",
   "metadata": {},
   "outputs": [
    {
     "name": "stdout",
     "output_type": "stream",
     "text": [
      "MICR extraction completed. Results saved to /Users/shivanipatel/Downloads/archive/yolo x image/micr_results.csv\n"
     ]
    }
   ],
   "source": [
    "import cv2\n",
    "import pytesseract\n",
    "import pandas as pd\n",
    "import os\n",
    "import re\n",
    "\n",
    "# Define the directory path\n",
    "dir_path = \"/Users/shivanipatel/Downloads/archive/yolo x image/yolo x image\"\n",
    "\n",
    "# Initialize a DataFrame to store results\n",
    "results_df = pd.DataFrame(columns=['Image_Name', 'Routing_Number', 'Account_Number', 'Check_Number', 'Formatted_MICR_Line'])\n",
    "\n",
    "# Function to clean the extracted text\n",
    "def clean_text(text):\n",
    "    if text not in [' ', '  ', '']:\n",
    "        text = re.sub('[^A-Za-z0-9-/,.() ]+', '', text)\n",
    "        text = text.strip()\n",
    "        text = re.sub(r'\\s{2,}', ' ', text)\n",
    "    return text\n",
    "\n",
    "# Function to extract the MICR line\n",
    "def extract_micr_line(text):\n",
    "    micr_pattern = re.compile(r'C\\d{6}C\\d{9}A\\d{6}C\\d{2}')\n",
    "    match = micr_pattern.search(text.replace(\" \", \"\").replace(\"\\n\", \"\"))\n",
    "    return match.group() if match else None\n",
    "\n",
    "# Function to format the MICR line\n",
    "def format_micr_line(micr_line):\n",
    "    return re.sub(r'[CA]', '', micr_line)\n",
    "\n",
    "# Function to parse the MICR code\n",
    "def parse_micr(micr_code):\n",
    "    micr_code = re.sub(r'\\D', '', micr_code)\n",
    "    routing_number = micr_code[:9]\n",
    "    check_number = micr_code[-4:]\n",
    "    account_number = micr_code[9:-4]\n",
    "    return routing_number, account_number, check_number\n",
    "\n",
    "# Function to format MICR for printing\n",
    "def format_micr_for_print(routing_number, account_number, check_number):\n",
    "    return \"{} {} {}\".format(routing_number, account_number, check_number)\n",
    "\n",
    "# Loop over each file in the directory\n",
    "for filename in os.listdir(dir_path):\n",
    "    if filename.lower().endswith((\".jpg\", \".png\")):\n",
    "        file_path = os.path.join(dir_path, filename)\n",
    "        img = cv2.imread(file_path)\n",
    "\n",
    "        # Preprocess the image\n",
    "        img = cv2.resize(img, None, fx=2, fy=2, interpolation=cv2.INTER_CUBIC)\n",
    "        img = cv2.cvtColor(img, cv2.COLOR_BGR2GRAY)\n",
    "        micr_img = img[420:,:]  # Adjust this slicing based on where the MICR line is in your images\n",
    "        e13bb_text = pytesseract.image_to_string(micr_img, lang='e13bb')\n",
    "        e13bb_clean = clean_text(e13bb_text)\n",
    "\n",
    "        # Extract and process MICR line\n",
    "        micr_line = extract_micr_line(e13bb_clean)\n",
    "        if micr_line:\n",
    "            formatted_micr = format_micr_line(micr_line)\n",
    "            routing_number, account_number, check_number = parse_micr(formatted_micr)\n",
    "            formatted_micr_line = format_micr_for_print(routing_number, account_number, check_number)\n",
    "\n",
    "            # Create a DataFrame for the current image's results\n",
    "            current_results = pd.DataFrame({\n",
    "                'Image_Name': [filename],\n",
    "                'Routing_Number': [routing_number],\n",
    "                'Account_Number': [account_number],\n",
    "                'Check_Number': [check_number],\n",
    "                'Formatted_MICR_Line': [formatted_micr_line]\n",
    "            })\n",
    "\n",
    "            # Concatenate the current results with the main DataFrame\n",
    "            results_df = pd.concat([results_df, current_results], ignore_index=True)\n",
    "\n",
    "# Save the results to a CSV file\n",
    "csv_file_path = '/Users/shivanipatel/Downloads/archive/yolo x image/micr_results.csv'  # Replace with your desired path\n",
    "results_df.to_csv(csv_file_path, index=False)\n",
    "\n",
    "print(f\"MICR extraction completed. Results saved to {csv_file_path}\")\n"
   ]
  },
  {
   "cell_type": "code",
   "execution_count": null,
   "id": "b373795f",
   "metadata": {},
   "outputs": [],
   "source": []
  }
 ],
 "metadata": {
  "kernelspec": {
   "display_name": "Python 3 (ipykernel)",
   "language": "python",
   "name": "python3"
  },
  "language_info": {
   "codemirror_mode": {
    "name": "ipython",
    "version": 3
   },
   "file_extension": ".py",
   "mimetype": "text/x-python",
   "name": "python",
   "nbconvert_exporter": "python",
   "pygments_lexer": "ipython3",
   "version": "3.10.10"
  }
 },
 "nbformat": 4,
 "nbformat_minor": 5
}
